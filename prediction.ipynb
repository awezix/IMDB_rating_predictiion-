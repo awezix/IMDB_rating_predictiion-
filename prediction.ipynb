{
 "cells": [
  {
   "cell_type": "code",
   "execution_count": 1,
   "metadata": {},
   "outputs": [],
   "source": [
    "from tensorflow.keras.datasets import imdb\n",
    "from tensorflow.keras.preprocessing.sequence import pad_sequences\n",
    "from tensorflow.keras.models import load_model\n",
    "import numpy as np"
   ]
  },
  {
   "cell_type": "code",
   "execution_count": 7,
   "metadata": {},
   "outputs": [],
   "source": [
    "# word index\n",
    "word_index=imdb.get_word_index()\n",
    "reversed_index={value:key for key,value in word_index.items()}"
   ]
  },
  {
   "cell_type": "code",
   "execution_count": 8,
   "metadata": {},
   "outputs": [
    {
     "name": "stderr",
     "output_type": "stream",
     "text": [
      "WARNING:absl:Compiled the loaded model, but the compiled metrics have yet to be built. `model.compile_metrics` will be empty until you train or evaluate the model.\n"
     ]
    }
   ],
   "source": [
    "model=load_model('simple_rnn_imdb.h5')"
   ]
  },
  {
   "cell_type": "code",
   "execution_count": 9,
   "metadata": {},
   "outputs": [
    {
     "data": {
      "text/html": [
       "<pre style=\"white-space:pre;overflow-x:auto;line-height:normal;font-family:Menlo,'DejaVu Sans Mono',consolas,'Courier New',monospace\"><span style=\"font-weight: bold\">Model: \"sequential_3\"</span>\n",
       "</pre>\n"
      ],
      "text/plain": [
       "\u001b[1mModel: \"sequential_3\"\u001b[0m\n"
      ]
     },
     "metadata": {},
     "output_type": "display_data"
    },
    {
     "data": {
      "text/html": [
       "<pre style=\"white-space:pre;overflow-x:auto;line-height:normal;font-family:Menlo,'DejaVu Sans Mono',consolas,'Courier New',monospace\">┏━━━━━━━━━━━━━━━━━━━━━━━━━━━━━━━━━┳━━━━━━━━━━━━━━━━━━━━━━━━┳━━━━━━━━━━━━━━━┓\n",
       "┃<span style=\"font-weight: bold\"> Layer (type)                    </span>┃<span style=\"font-weight: bold\"> Output Shape           </span>┃<span style=\"font-weight: bold\">       Param # </span>┃\n",
       "┡━━━━━━━━━━━━━━━━━━━━━━━━━━━━━━━━━╇━━━━━━━━━━━━━━━━━━━━━━━━╇━━━━━━━━━━━━━━━┩\n",
       "│ embedding_3 (<span style=\"color: #0087ff; text-decoration-color: #0087ff\">Embedding</span>)         │ (<span style=\"color: #00d7ff; text-decoration-color: #00d7ff\">None</span>, <span style=\"color: #00af00; text-decoration-color: #00af00\">500</span>, <span style=\"color: #00af00; text-decoration-color: #00af00\">128</span>)       │     <span style=\"color: #00af00; text-decoration-color: #00af00\">1,280,000</span> │\n",
       "├─────────────────────────────────┼────────────────────────┼───────────────┤\n",
       "│ simple_rnn_3 (<span style=\"color: #0087ff; text-decoration-color: #0087ff\">SimpleRNN</span>)        │ (<span style=\"color: #00d7ff; text-decoration-color: #00d7ff\">None</span>, <span style=\"color: #00af00; text-decoration-color: #00af00\">128</span>)            │        <span style=\"color: #00af00; text-decoration-color: #00af00\">32,896</span> │\n",
       "├─────────────────────────────────┼────────────────────────┼───────────────┤\n",
       "│ dense_3 (<span style=\"color: #0087ff; text-decoration-color: #0087ff\">Dense</span>)                 │ (<span style=\"color: #00d7ff; text-decoration-color: #00d7ff\">None</span>, <span style=\"color: #00af00; text-decoration-color: #00af00\">1</span>)              │           <span style=\"color: #00af00; text-decoration-color: #00af00\">129</span> │\n",
       "└─────────────────────────────────┴────────────────────────┴───────────────┘\n",
       "</pre>\n"
      ],
      "text/plain": [
       "┏━━━━━━━━━━━━━━━━━━━━━━━━━━━━━━━━━┳━━━━━━━━━━━━━━━━━━━━━━━━┳━━━━━━━━━━━━━━━┓\n",
       "┃\u001b[1m \u001b[0m\u001b[1mLayer (type)                   \u001b[0m\u001b[1m \u001b[0m┃\u001b[1m \u001b[0m\u001b[1mOutput Shape          \u001b[0m\u001b[1m \u001b[0m┃\u001b[1m \u001b[0m\u001b[1m      Param #\u001b[0m\u001b[1m \u001b[0m┃\n",
       "┡━━━━━━━━━━━━━━━━━━━━━━━━━━━━━━━━━╇━━━━━━━━━━━━━━━━━━━━━━━━╇━━━━━━━━━━━━━━━┩\n",
       "│ embedding_3 (\u001b[38;5;33mEmbedding\u001b[0m)         │ (\u001b[38;5;45mNone\u001b[0m, \u001b[38;5;34m500\u001b[0m, \u001b[38;5;34m128\u001b[0m)       │     \u001b[38;5;34m1,280,000\u001b[0m │\n",
       "├─────────────────────────────────┼────────────────────────┼───────────────┤\n",
       "│ simple_rnn_3 (\u001b[38;5;33mSimpleRNN\u001b[0m)        │ (\u001b[38;5;45mNone\u001b[0m, \u001b[38;5;34m128\u001b[0m)            │        \u001b[38;5;34m32,896\u001b[0m │\n",
       "├─────────────────────────────────┼────────────────────────┼───────────────┤\n",
       "│ dense_3 (\u001b[38;5;33mDense\u001b[0m)                 │ (\u001b[38;5;45mNone\u001b[0m, \u001b[38;5;34m1\u001b[0m)              │           \u001b[38;5;34m129\u001b[0m │\n",
       "└─────────────────────────────────┴────────────────────────┴───────────────┘\n"
      ]
     },
     "metadata": {},
     "output_type": "display_data"
    },
    {
     "data": {
      "text/html": [
       "<pre style=\"white-space:pre;overflow-x:auto;line-height:normal;font-family:Menlo,'DejaVu Sans Mono',consolas,'Courier New',monospace\"><span style=\"font-weight: bold\"> Total params: </span><span style=\"color: #00af00; text-decoration-color: #00af00\">1,313,027</span> (5.01 MB)\n",
       "</pre>\n"
      ],
      "text/plain": [
       "\u001b[1m Total params: \u001b[0m\u001b[38;5;34m1,313,027\u001b[0m (5.01 MB)\n"
      ]
     },
     "metadata": {},
     "output_type": "display_data"
    },
    {
     "data": {
      "text/html": [
       "<pre style=\"white-space:pre;overflow-x:auto;line-height:normal;font-family:Menlo,'DejaVu Sans Mono',consolas,'Courier New',monospace\"><span style=\"font-weight: bold\"> Trainable params: </span><span style=\"color: #00af00; text-decoration-color: #00af00\">1,313,025</span> (5.01 MB)\n",
       "</pre>\n"
      ],
      "text/plain": [
       "\u001b[1m Trainable params: \u001b[0m\u001b[38;5;34m1,313,025\u001b[0m (5.01 MB)\n"
      ]
     },
     "metadata": {},
     "output_type": "display_data"
    },
    {
     "data": {
      "text/html": [
       "<pre style=\"white-space:pre;overflow-x:auto;line-height:normal;font-family:Menlo,'DejaVu Sans Mono',consolas,'Courier New',monospace\"><span style=\"font-weight: bold\"> Non-trainable params: </span><span style=\"color: #00af00; text-decoration-color: #00af00\">0</span> (0.00 B)\n",
       "</pre>\n"
      ],
      "text/plain": [
       "\u001b[1m Non-trainable params: \u001b[0m\u001b[38;5;34m0\u001b[0m (0.00 B)\n"
      ]
     },
     "metadata": {},
     "output_type": "display_data"
    },
    {
     "data": {
      "text/html": [
       "<pre style=\"white-space:pre;overflow-x:auto;line-height:normal;font-family:Menlo,'DejaVu Sans Mono',consolas,'Courier New',monospace\"><span style=\"font-weight: bold\"> Optimizer params: </span><span style=\"color: #00af00; text-decoration-color: #00af00\">2</span> (12.00 B)\n",
       "</pre>\n"
      ],
      "text/plain": [
       "\u001b[1m Optimizer params: \u001b[0m\u001b[38;5;34m2\u001b[0m (12.00 B)\n"
      ]
     },
     "metadata": {},
     "output_type": "display_data"
    }
   ],
   "source": [
    "model.summary()"
   ]
  },
  {
   "cell_type": "code",
   "execution_count": 11,
   "metadata": {},
   "outputs": [
    {
     "data": {
      "text/plain": [
       "[<Variable path=sequential_3/embedding_3/embeddings, shape=(10000, 128), dtype=float32, value=[[-0.98528373 -0.06685684 -0.0100947  ... -0.80757415 -1.2233129\n",
       "    0.29445958]\n",
       "  [-0.03813602  0.05417977 -0.08060603 ... -0.05040999 -0.05303597\n",
       "    0.06529865]\n",
       "  [-0.1635175  -0.0780634   0.1092672  ... -0.07848422 -0.10362577\n",
       "   -0.09270202]\n",
       "  ...\n",
       "  [ 0.0138399  -0.053385    0.00557308 ...  0.02945296 -0.03162849\n",
       "    0.00639671]\n",
       "  [-0.07100738  0.01807276 -0.01607534 ... -0.02324806 -0.07034172\n",
       "   -0.00799871]\n",
       "  [-0.02273667 -0.03365465  0.00712486 ...  0.03764286  0.01279387\n",
       "   -0.00123092]]>,\n",
       " <Variable path=sequential_3/simple_rnn_3/simple_rnn_cell/kernel, shape=(128, 128), dtype=float32, value=[[ 0.0619304  -0.02434951 -0.0664655  ...  0.1402017   0.04860546\n",
       "    0.16145279]\n",
       "  [-0.1007194   0.06279299 -0.02962367 ...  0.09160454  0.08738688\n",
       "    0.0396415 ]\n",
       "  [-0.02033703 -0.1019429  -0.11423683 ...  0.08790569 -0.02442393\n",
       "   -0.06216531]\n",
       "  ...\n",
       "  [ 0.11483695  0.117635    0.11017592 ...  0.11509745  0.16082963\n",
       "    0.07820491]\n",
       "  [ 0.10642554 -0.10532191  0.1283605  ...  0.00852435 -0.08260626\n",
       "    0.04076434]\n",
       "  [-0.13462922 -0.1086323  -0.00720195 ... -0.03129043 -0.09362499\n",
       "    0.05954165]]>,\n",
       " <Variable path=sequential_3/simple_rnn_3/simple_rnn_cell/recurrent_kernel, shape=(128, 128), dtype=float32, value=[[-0.07935036  0.12428672 -0.01729727 ...  0.00716165 -0.01708319\n",
       "    0.01247756]\n",
       "  [-0.05336628  0.04601408  0.06634956 ...  0.01159549 -0.02514984\n",
       "    0.03094402]\n",
       "  [ 0.03923438  0.09749046 -0.2260361  ...  0.18104954  0.04924164\n",
       "    0.08943205]\n",
       "  ...\n",
       "  [ 0.05145479 -0.08192759 -0.04536364 ... -0.24948359 -0.07359797\n",
       "   -0.20663336]\n",
       "  [ 0.07174083  0.02346865 -0.01243583 ... -0.13225475  0.15649223\n",
       "   -0.08559716]\n",
       "  [-0.01766999 -0.11752585  0.08204102 ... -0.02918767 -0.1319493\n",
       "   -0.01103834]]>,\n",
       " <Variable path=sequential_3/simple_rnn_3/simple_rnn_cell/bias, shape=(128,), dtype=float32, value=[-0.03426088 -0.02184392 -0.01813415 -0.03452139  0.0125544   0.006594\n",
       "   0.03164792 -0.00015008  0.00929899  0.02063076 -0.00400756  0.00350605\n",
       "  -0.00485525  0.00725751 -0.00325341  0.02539601  0.01097199  0.01736359\n",
       "   0.01102401  0.00231117  0.01987467  0.00297627 -0.00525115 -0.00522869\n",
       "  -0.05042076 -0.03457693 -0.0200149   0.01089178 -0.02288048  0.03865793\n",
       "   0.01108044 -0.00209587  0.01422577  0.00959795 -0.0130775  -0.0208498\n",
       "  -0.02070217  0.00790973 -0.015107   -0.008495   -0.0210229  -0.02547788\n",
       "   0.00022833 -0.00128614 -0.00893347 -0.001328   -0.02005176  0.01529722\n",
       "   0.01010966 -0.00066116  0.00435855 -0.02931979 -0.02709426  0.01415875\n",
       "   0.02354863 -0.01602993  0.02637711  0.02340584 -0.02568609  0.00279467\n",
       "  -0.00247296  0.01731625 -0.00749838  0.01217159 -0.03896192  0.01472623\n",
       "   0.00093453 -0.02042064 -0.03876657 -0.00289715  0.03804199  0.03415499\n",
       "   0.02463008 -0.00759609 -0.00347468 -0.02762784  0.00911013  0.01115233\n",
       "   0.00543201  0.01959174 -0.02234202 -0.01862803 -0.02329032  0.018027\n",
       "  -0.01356453  0.01570186  0.01693306 -0.0363824   0.00468884  0.00757705\n",
       "  -0.02267243  0.01688653 -0.01274506 -0.00505378 -0.00881792  0.00365073\n",
       "  -0.02673836 -0.02917071  0.02465613 -0.02026838  0.01647159 -0.02764961\n",
       "   0.02053076  0.03040852 -0.03006933  0.01384348 -0.01746811  0.00393473\n",
       "  -0.02263195  0.02033259 -0.01604049  0.02783001  0.01140467 -0.03194167\n",
       "  -0.01745835  0.0010614  -0.01138217 -0.04667431  0.00298864 -0.0214473\n",
       "  -0.00498294  0.04120291 -0.00396224  0.0189077   0.00840997 -0.018821\n",
       "  -0.0188413  -0.01829667]>,\n",
       " <Variable path=sequential_3/dense_3/kernel, shape=(128, 1), dtype=float32, value=[[-0.20272417]\n",
       "  [-0.08595031]\n",
       "  [-0.06788739]\n",
       "  [-0.03427876]\n",
       "  [-0.01203393]\n",
       "  [-0.1809819 ]\n",
       "  [-0.04927917]\n",
       "  [ 0.0187813 ]\n",
       "  [ 0.19842702]\n",
       "  [ 0.23346362]\n",
       "  [-0.02959983]\n",
       "  [ 0.24192691]\n",
       "  [ 0.06300314]\n",
       "  [-0.32014036]\n",
       "  [ 0.17705211]\n",
       "  [-0.2346394 ]\n",
       "  [ 0.1328809 ]\n",
       "  [ 0.06230904]\n",
       "  [ 0.0667636 ]\n",
       "  [ 0.00572066]\n",
       "  [-0.16324829]\n",
       "  [-0.08561113]\n",
       "  [ 0.17137386]\n",
       "  [ 0.24529554]\n",
       "  [-0.03490774]\n",
       "  [-0.04207771]\n",
       "  [ 0.15526886]\n",
       "  [-0.1529249 ]\n",
       "  [ 0.0608141 ]\n",
       "  [-0.01148412]\n",
       "  [-0.26306885]\n",
       "  [-0.06701996]\n",
       "  [-0.04649035]\n",
       "  [-0.16015868]\n",
       "  [-0.13816732]\n",
       "  [-0.16257203]\n",
       "  [-0.11551018]\n",
       "  [ 0.18452616]\n",
       "  [-0.21560578]\n",
       "  [-0.19743867]\n",
       "  [ 0.03209826]\n",
       "  [ 0.37881926]\n",
       "  [ 0.15328626]\n",
       "  [-0.0284166 ]\n",
       "  [ 0.07591595]\n",
       "  [ 0.35772476]\n",
       "  [-0.0813346 ]\n",
       "  [-0.08634968]\n",
       "  [-0.21359599]\n",
       "  [ 0.03253977]\n",
       "  [-0.33147475]\n",
       "  [-0.09772387]\n",
       "  [-0.07257129]\n",
       "  [ 0.17987975]\n",
       "  [ 0.17706528]\n",
       "  [-0.13458   ]\n",
       "  [-0.07598271]\n",
       "  [-0.00487758]\n",
       "  [-0.04272946]\n",
       "  [ 0.21889642]\n",
       "  [-0.09892795]\n",
       "  [-0.14170767]\n",
       "  [ 0.179301  ]\n",
       "  [-0.02414156]\n",
       "  [ 0.18358767]\n",
       "  [-0.14573038]\n",
       "  [-0.1877743 ]\n",
       "  [-0.18773781]\n",
       "  [ 0.04917645]\n",
       "  [-0.12976304]\n",
       "  [-0.19822223]\n",
       "  [-0.04530716]\n",
       "  [-0.02132753]\n",
       "  [-0.1638662 ]\n",
       "  [-0.13951866]\n",
       "  [ 0.1558071 ]\n",
       "  [ 0.20622498]\n",
       "  [ 0.09934094]\n",
       "  [-0.14270781]\n",
       "  [ 0.02524501]\n",
       "  [-0.11096672]\n",
       "  [-0.15881655]\n",
       "  [ 0.15656568]\n",
       "  [-0.03577929]\n",
       "  [-0.07226569]\n",
       "  [ 0.17936414]\n",
       "  [-0.18096998]\n",
       "  [-0.0095957 ]\n",
       "  [-0.04982168]\n",
       "  [-0.19469309]\n",
       "  [ 0.03831217]\n",
       "  [-0.01596369]\n",
       "  [-0.18728547]\n",
       "  [ 0.11782193]\n",
       "  [-0.22763422]\n",
       "  [-0.02943112]\n",
       "  [-0.00708369]\n",
       "  [-0.10560992]\n",
       "  [ 0.22291155]\n",
       "  [-0.09195709]\n",
       "  [-0.24935296]\n",
       "  [-0.08267275]\n",
       "  [ 0.0112548 ]\n",
       "  [ 0.18017001]\n",
       "  [-0.16843288]\n",
       "  [-0.0040312 ]\n",
       "  [-0.19155467]\n",
       "  [ 0.11687098]\n",
       "  [-0.14258419]\n",
       "  [-0.08090807]\n",
       "  [ 0.1481137 ]\n",
       "  [-0.07953677]\n",
       "  [ 0.03547189]\n",
       "  [ 0.2204479 ]\n",
       "  [ 0.08009525]\n",
       "  [-0.04441295]\n",
       "  [-0.0007019 ]\n",
       "  [ 0.15704407]\n",
       "  [ 0.15510063]\n",
       "  [-0.2701419 ]\n",
       "  [ 0.13030046]\n",
       "  [-0.02719904]\n",
       "  [ 0.21564068]\n",
       "  [ 0.01714024]\n",
       "  [-0.09888782]\n",
       "  [ 0.4485977 ]\n",
       "  [-0.14833659]\n",
       "  [ 0.26271665]]>,\n",
       " <Variable path=sequential_3/dense_3/bias, shape=(1,), dtype=float32, value=[-0.0367211]>]"
      ]
     },
     "execution_count": 11,
     "metadata": {},
     "output_type": "execute_result"
    }
   ],
   "source": [
    "model.weights"
   ]
  },
  {
   "cell_type": "code",
   "execution_count": 13,
   "metadata": {},
   "outputs": [],
   "source": [
    "# function to decode reviews\n",
    "def decode_reviews(encodes_reviews):\n",
    "    return ' '.join([reversed_index.get(i-3,'?') for i in encodes_reviews])\n",
    "\n",
    "# function to preprocess user input\n",
    "def preprocess_text(text):\n",
    "    words=text.lower().split()\n",
    "    encoded_review=[word_index.get(word,2)+3 for word in words]\n",
    "    padded_review=pad_sequences([encoded_review],maxlen=500)\n",
    "    return padded_review"
   ]
  },
  {
   "cell_type": "markdown",
   "metadata": {},
   "source": [
    "#### Why Add 3?\n",
    "Adding a constant offset like 3 might be done for several reasons:\n",
    "\n",
    "To reserve certain numbers for special tokens, such as:\n",
    "0: For padding.\n",
    "1: For start of a sequence.\n",
    "2: For unknown words.\n",
    "Adding 3 ensures the actual word indices don't conflict with these reserved tokens.\n"
   ]
  },
  {
   "cell_type": "code",
   "execution_count": 51,
   "metadata": {},
   "outputs": [],
   "source": [
    "# prediction function\n",
    "def predict_sentiment(review):\n",
    "    preprocessed=preprocess_text(review)\n",
    "    prediction=model.predict(preprocessed)\n",
    "\n",
    "    sentiment='positive' if prediction[0][0] > 0.4 else 'negative'\n",
    "    return sentiment,prediction"
   ]
  },
  {
   "cell_type": "code",
   "execution_count": 52,
   "metadata": {},
   "outputs": [
    {
     "name": "stdout",
     "output_type": "stream",
     "text": [
      "\u001b[1m1/1\u001b[0m \u001b[32m━━━━━━━━━━━━━━━━━━━━\u001b[0m\u001b[37m\u001b[0m \u001b[1m0s\u001b[0m 56ms/step\n",
      "Review :very good\n",
      "Sentiment : positive\n",
      "Score : [[0.4774523]]\n"
     ]
    }
   ],
   "source": [
    "# example review for prediction\n",
    "ex_review=\"very good\"\n",
    "sentiment,score=predict_sentiment(ex_review)\n",
    "print(f'Review :{ex_review}')\n",
    "print(f'Sentiment : {sentiment}\\nScore : {score}')"
   ]
  },
  {
   "cell_type": "code",
   "execution_count": null,
   "metadata": {},
   "outputs": [],
   "source": []
  },
  {
   "cell_type": "code",
   "execution_count": null,
   "metadata": {},
   "outputs": [],
   "source": []
  }
 ],
 "metadata": {
  "kernelspec": {
   "display_name": "venv",
   "language": "python",
   "name": "python3"
  },
  "language_info": {
   "codemirror_mode": {
    "name": "ipython",
    "version": 3
   },
   "file_extension": ".py",
   "mimetype": "text/x-python",
   "name": "python",
   "nbconvert_exporter": "python",
   "pygments_lexer": "ipython3",
   "version": "3.12.1"
  }
 },
 "nbformat": 4,
 "nbformat_minor": 2
}
